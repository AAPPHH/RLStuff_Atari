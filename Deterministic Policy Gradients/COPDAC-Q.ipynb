{
 "cells": [
  {
   "cell_type": "code",
   "execution_count": 54,
   "metadata": {},
   "outputs": [],
   "source": [
    "import torch\n",
    "import torch.nn as nn\n",
    "import torch.nn.functional as F\n",
    "import torch.optim as optim\n",
    "from torch.distributions import Normal\n",
    "\n",
    "import gym\n",
    "from continuous_cartpole import ContinuousCartPoleEnv\n",
    "from tqdm import tqdm_notebook\n",
    "import numpy as np\n",
    "from collections import deque\n",
    "import random\n",
    "from copy import deepcopy"
   ]
  },
  {
   "cell_type": "code",
   "execution_count": 2,
   "metadata": {},
   "outputs": [],
   "source": [
    "class QFunction():\n",
    "    \n",
    "    def __init__(self, weight_vector):\n",
    "        self.w = weight_vector\n",
    "        \n",
    "    def __call__(self, state, action):\n",
    "        \n",
    "        a_pred = μ(state)\n",
    "        δ = action - a_pred\n",
    "        \n",
    "        μ.θ.grad = None\n",
    "        a_pred.backward()\n",
    "        ϕ_sa = μ.θ.grad * δ\n",
    "        Aʷ_sa = mult(ϕ_sa, self.w)\n",
    "        q_val = Aʷ_sa + V(state)\n",
    "        \n",
    "        return q_val"
   ]
  },
  {
   "cell_type": "code",
   "execution_count": 3,
   "metadata": {},
   "outputs": [],
   "source": [
    "class DeterministicPolicy():\n",
    "    \n",
    "    def __init__(self, weight_vector):\n",
    "        self.θ = weight_vector\n",
    "        \n",
    "    def __call__(self, state):\n",
    "        action = mult(self.θ, state)\n",
    "        action = torch.tanh(action)\n",
    "        \n",
    "        return action"
   ]
  },
  {
   "cell_type": "code",
   "execution_count": 4,
   "metadata": {},
   "outputs": [],
   "source": [
    "class ValueFunction():\n",
    "    \n",
    "    def __init__(self, weight_vector):\n",
    "        self.v = weight_vector\n",
    "        \n",
    "    def __call__(self, state):\n",
    "        val = mult(self.v, state)\n",
    "        \n",
    "        return val"
   ]
  },
  {
   "cell_type": "code",
   "execution_count": 5,
   "metadata": {},
   "outputs": [],
   "source": [
    "def mult(weight_vector, feature_vector):\n",
    "    ''' Mulitplies weight vector by feature vector\n",
    "    Args:\n",
    "    - weight_vector (Tensor): vector of weights\n",
    "    - feature_vector (Tensor): vector of features\n",
    "    \n",
    "    Return:\n",
    "    - product (Tensor): product of vectors\n",
    "    \n",
    "    '''\n",
    "    \n",
    "    #Transpose weight vector and multiply by feature vector\n",
    "    product = torch.matmul(torch.transpose(weight_vector, 0, 1), feature_vector)\n",
    "    \n",
    "    #Return product\n",
    "    return product"
   ]
  },
  {
   "cell_type": "code",
   "execution_count": 6,
   "metadata": {},
   "outputs": [],
   "source": [
    "def choose_action(eps, state_tensor):\n",
    "    action = μ(state_tensor)\n",
    "    action = torch.tanh(action)\n",
    "    \n",
    "    if np.random.random() > eps:\n",
    "        return action\n",
    "\n",
    "    return env.action_space.sample()\n",
    "    "
   ]
  },
  {
   "cell_type": "code",
   "execution_count": 7,
   "metadata": {},
   "outputs": [],
   "source": [
    "def normalize_state(state, mean, std):\n",
    "    normalized = (state - mean) / std\n",
    "    \n",
    "    return normalized"
   ]
  },
  {
   "cell_type": "code",
   "execution_count": 46,
   "metadata": {},
   "outputs": [],
   "source": [
    "def update_parameters(item, state_mean, state_std):\n",
    "    \n",
    "    state, action, new_state, reward, done = item[0]\n",
    "    \n",
    "    state = normalize_state(state, state_mean, state_std)\n",
    "    new_state = normalize_state(new_state, state_mean, state_std)\n",
    "    \n",
    "    state_tensor = torch.from_numpy(state).float().unsqueeze(1)  \n",
    "    new_state_tensor = torch.from_numpy(new_state).float().unsqueeze(1)\n",
    "    \n",
    "    new_action = μ(new_state_tensor)\n",
    "\n",
    "    δ = reward + γ * Q(new_state_tensor, new_action) - Q(state_tensor, action)\n",
    "\n",
    "    #calculate θ update\n",
    "    μ.θ.grad = None\n",
    "    μ(state_tensor).backward()\n",
    "\n",
    "    jacob_matrix = μ.θ.grad\n",
    "\n",
    "    #θ_update = jacob_matrix * mult(jacob_matrix, Q.w) \n",
    "    θ_update = Q.w\n",
    "\n",
    "    #calculate w update\n",
    "    ϕ_sa = (action - μ(state_tensor)) * jacob_matrix\n",
    "    w_update = δ.detach() * ϕ_sa.detach()\n",
    "\n",
    "    #calculate v update\n",
    "    v_update = δ * jacob_matrix\n",
    "    #v_update = δ * state_tensor\n",
    "    \n",
    "    #update parameters\n",
    "    μ.θ = μ.θ.detach() + α_θ * θ_update\n",
    "    μ.θ.requires_grad = True\n",
    "    \n",
    "    Q.w = Q.w.detach() + αw * w_update\n",
    "    V.v = V.v.detach() + αv * v_update"
   ]
  },
  {
   "cell_type": "code",
   "execution_count": 35,
   "metadata": {},
   "outputs": [],
   "source": [
    "torch.set_printoptions(precision=10)\n",
    "\n",
    "#discount factor\n",
    "γ = 0.99\n",
    "\n",
    "#number of episodes to run\n",
    "NUM_EPISODES = 100\n",
    "\n",
    "#max steps per episode\n",
    "MAX_STEPS = 5000\n",
    "\n",
    "#score agent needs for environment to be solved\n",
    "SOLVED_SCORE = 195\n",
    "\n",
    "α_θ = 0.005\n",
    "αv = 0.03\n",
    "αw = 0.03"
   ]
  },
  {
   "cell_type": "code",
   "execution_count": 79,
   "metadata": {
    "scrolled": true
   },
   "outputs": [],
   "source": [
    "#Make environment\n",
    "env = gym.make('MountainCarContinuous-v0').env\n",
    "env2 = deepcopy(env)\n",
    "\n",
    "#environment parameters\n",
    "obs_space = env.observation_space.shape[0]\n",
    "action_space = env.action_space.shape[0]\n",
    "\n",
    "#set seeds\n",
    "np.random.seed(0)\n",
    "random.seed(0)\n",
    "env.seed(0)\n",
    "torch.manual_seed(0)\n",
    "\n",
    "#Init weight vectors, should be matrices of dimensions (input, output)\n",
    "stdv = 1 / np.sqrt(obs_space)\n",
    "θ = torch.Tensor(np.random.uniform(low=-stdv, high=stdv, size=(obs_space, action_space)) * 0.03)\n",
    "θ.requires_grad = True\n",
    "w = torch.Tensor(np.random.uniform(low=-stdv, high=stdv, size=(obs_space, 1)) * 0.03)\n",
    "v = torch.Tensor(np.random.uniform(low=-stdv, high=stdv, size=(obs_space, 1)) * 0.03)\n",
    "\n",
    "#Init network\n",
    "μ = DeterministicPolicy(θ)\n",
    "Q = QFunction(w)\n",
    "V = ValueFunction(v)\n",
    "\n",
    "#samples = np.array(samples)\n",
    "samples = np.array([env.observation_space.sample() for _ in range(10000)])\n",
    "state_mean = np.mean(samples, axis = 0)\n",
    "state_std = np.std(samples, axis= 0) + 1.0e-6"
   ]
  },
  {
   "cell_type": "code",
   "execution_count": 80,
   "metadata": {
    "scrolled": true
   },
   "outputs": [
    {
     "data": {
      "application/vnd.jupyter.widget-view+json": {
       "model_id": "123a7d0b6ef24b2996052d480b1fd7f7",
       "version_major": 2,
       "version_minor": 0
      },
      "text/plain": [
       "HBox(children=(IntProgress(value=0), HTML(value='')))"
      ]
     },
     "metadata": {},
     "output_type": "display_data"
    },
    {
     "name": "stdout",
     "output_type": "stream",
     "text": [
      "\n"
     ]
    }
   ],
   "source": [
    "scores = []\n",
    "policy_scores = []\n",
    "total_updates = 0\n",
    "\n",
    "replay_buffer = deque(maxlen=8000)\n",
    "\n",
    "for episode in tqdm_notebook(range(NUM_EPISODES)):\n",
    "    \n",
    "    state = env.reset()\n",
    "    state2 = env2.reset()\n",
    "    \n",
    "    score = 0\n",
    "    score2 = 0\n",
    "    \n",
    "    done = False\n",
    "    done2 = False\n",
    "    \n",
    "    for step in range(MAX_STEPS):        \n",
    "        action = env.action_space.sample()[0]\n",
    "        \n",
    "        new_state, reward, done, _ = env.step([action])\n",
    "\n",
    "        score += reward\n",
    "        reward += 100*((np.sin(3*new_state[0]) * 0.0025 + 0.5 * new_state[1] * new_state[1]) - (np.sin(3*state[0]) * 0.0025 + 0.5 * state[1] * state[1]))\n",
    "        \n",
    "        item = [state, action, new_state, reward, done]\n",
    "        replay_buffer.append(item)\n",
    "        \n",
    "        if step % 10 == 0:\n",
    "            replay = random.sample(replay_buffer, 1)\n",
    "            update_parameters(replay, state_mean, state_std)\n",
    "            total_updates += 1\n",
    "        \n",
    "        if total_updates % 3000 == 0:\n",
    "            if α_θ > 0.005:\n",
    "                α_θ *= 0.9\n",
    "            if αw > 0.05:\n",
    "                αw *= 0.9\n",
    "            if αv > 0.05:\n",
    "                αv *= 0.9        \n",
    "        if done:\n",
    "            break\n",
    "        \n",
    "        state = new_state\n",
    "    \n",
    "    scores.append(score)\n",
    "        \n",
    "    for step in range(MAX_STEPS):\n",
    "        #env2.render()\n",
    "        \n",
    "        state2 = normalize_state(state2, state_mean, state_std)\n",
    "        state_tensor2 = torch.from_numpy(state2).float().unsqueeze(1)\n",
    "        action2 = μ(state_tensor2)\n",
    "        \n",
    "        new_state2, reward2, done2, _ = env2.step([action2.item()])\n",
    "        \n",
    "        score2 += reward2\n",
    "        \n",
    "        if done2:\n",
    "            break\n",
    "            \n",
    "        state2 = new_state2\n",
    "    \n",
    "    policy_scores.append(score2)"
   ]
  },
  {
   "cell_type": "code",
   "execution_count": 81,
   "metadata": {
    "scrolled": true
   },
   "outputs": [
    {
     "data": {
      "image/png": "[encoded data removed]",
      "text/plain": [
       "<Figure size 432x288 with 1 Axes>"
      ]
     },
     "metadata": {},
     "output_type": "display_data"
    }
   ],
   "source": [
    "import matplotlib.pyplot as plt\n",
    "from sklearn.linear_model import LinearRegression\n",
    "import seaborn as sns\n",
    "import numpy as np\n",
    "\n",
    "sns.set()\n",
    "\n",
    "plt.plot(scores, color='grey', label='Training score')\n",
    "plt.plot(policy_scores, color='blue', label='Target Policy score')\n",
    "plt.ylabel('score')\n",
    "plt.xlabel('episodes')\n",
    "plt.title('Score history of MountainCar with COPDAC-Q')\n",
    "plt.legend()\n",
    "\n",
    "reg = LinearRegression().fit(np.arange(len(policy_scores)).reshape(-1, 1), np.array(policy_scores).reshape(-1, 1))\n",
    "y_pred = reg.predict(np.arange(len(policy_scores)).reshape(-1, 1))\n",
    "plt.plot(y_pred, color='orange')\n",
    "plt.show()"
   ]
  },
  {
   "cell_type": "code",
   "execution_count": 84,
   "metadata": {
    "scrolled": false
   },
   "outputs": [
    {
     "data": {
      "application/vnd.jupyter.widget-view+json": {
       "model_id": "1b4bcf3cc1e54056bef29b79b77997bb",
       "version_major": 2,
       "version_minor": 0
      },
      "text/plain": [
       "HBox(children=(IntProgress(value=0, max=10), HTML(value='')))"
      ]
     },
     "metadata": {},
     "output_type": "display_data"
    },
    {
     "name": "stdout",
     "output_type": "stream",
     "text": [
      "\n"
     ]
    }
   ],
   "source": [
    "scores = []\n",
    "\n",
    "for _ in tqdm_notebook(range(10)):\n",
    "    state = env.reset()\n",
    "    done = False\n",
    "    score = 0\n",
    "    for step in range(MAX_STEPS):\n",
    "        #env.render()\n",
    "        state = normalize_state(state, state_mean, state_std)\n",
    "        state_tensor = torch.from_numpy(state).float().unsqueeze(1)\n",
    "        action = μ(state_tensor)\n",
    "        new_state, reward, done, info = env.step([action.item()])\n",
    "        \n",
    "        score += reward\n",
    "        \n",
    "        state = new_state\n",
    "        \n",
    "        if done:\n",
    "            break\n",
    "    scores.append(score)\n",
    "env.close()"
   ]
  },
  {
   "cell_type": "code",
   "execution_count": 85,
   "metadata": {
    "scrolled": true
   },
   "outputs": [
    {
     "data": {
      "text/plain": [
       "90.30795230000804"
      ]
     },
     "execution_count": 85,
     "metadata": {},
     "output_type": "execute_result"
    }
   ],
   "source": [
    "np.array(scores).mean()"
   ]
  },
  {
   "cell_type": "code",
   "execution_count": 65,
   "metadata": {
    "scrolled": true
   },
   "outputs": [
    {
     "data": {
      "text/plain": [
       "0.0"
      ]
     },
     "execution_count": 65,
     "metadata": {},
     "output_type": "execute_result"
    }
   ],
   "source": [
    "np.array(scores).var()"
   ]
  },
  {
   "cell_type": "code",
   "execution_count": 43,
   "metadata": {},
   "outputs": [],
   "source": [
    "env.close()"
   ]
  },
  {
   "cell_type": "code",
   "execution_count": null,
   "metadata": {},
   "outputs": [],
   "source": []
  }
 ],
 "metadata": {
  "kernelspec": {
   "display_name": "Python 3",
   "language": "python",
   "name": "python3"
  },
  "language_info": {
   "codemirror_mode": {
    "name": "ipython",
    "version": 3
   },
   "file_extension": ".py",
   "mimetype": "text/x-python",
   "name": "python",
   "nbconvert_exporter": "python",
   "pygments_lexer": "ipython3",
   "version": "3.7.4"
  }
 },
 "nbformat": 4,
 "nbformat_minor": 2
}

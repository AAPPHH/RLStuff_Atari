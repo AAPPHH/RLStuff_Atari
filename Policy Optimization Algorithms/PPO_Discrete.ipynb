{
 "cells": [
  {
   "cell_type": "code",
   "execution_count": 1,
   "metadata": {},
   "outputs": [],
   "source": [
    "import torch\n",
    "import torch.nn as nn\n",
    "import torch.nn.functional as F\n",
    "import torch.optim as optim\n",
    "from torch.distributions import Categorical\n",
    "\n",
    "import gym\n",
    "from tqdm import tqdm_notebook\n",
    "import numpy as np\n",
    "from collections import deque\n",
    "from copy import deepcopy"
   ]
  },
  {
   "cell_type": "code",
   "execution_count": 2,
   "metadata": {},
   "outputs": [],
   "source": [
    "class ActorCriticNetwork(nn.Module):\n",
    "    \n",
    "    def __init__(self, obs_space, action_space):\n",
    "        super(ActorCriticNetwork, self).__init__()\n",
    "\n",
    "        self.actor = nn.Sequential(\n",
    "                            nn.Linear(obs_space, 64),\n",
    "                            nn.Tanh(),\n",
    "                            nn.Linear(64, 64),\n",
    "                            nn.Tanh(),\n",
    "                            nn.Linear(64, action_space),\n",
    "                            nn.Softmax(dim=1))\n",
    "\n",
    "\n",
    "        self.critic = nn.Sequential(\n",
    "                        nn.Linear(obs_space, 64),\n",
    "                        nn.Tanh(),\n",
    "                        nn.Linear(64, 64),\n",
    "                        nn.Tanh(),\n",
    "                        nn.Linear(64, 1))\n",
    "        \n",
    "    def forward(self):\n",
    "        raise NotImplementedError\n",
    "        \n",
    "    def select_action(self, state):\n",
    "        ''' Selects an action given current state\n",
    "        Args:\n",
    "        - network (Torch NN): network to process state\n",
    "        - state (Array): Array of action space in an environment\n",
    "\n",
    "        Return:\n",
    "        - (int): action that is selected\n",
    "        - (float): log probability of selecting that action given state and network\n",
    "        '''\n",
    "    \n",
    "        #convert state to float tensor, add 1 dimension, allocate tensor on device\n",
    "        state = torch.from_numpy(state).float().unsqueeze(0)\n",
    "\n",
    "        #use network to predict action probabilities\n",
    "        action_probs = self.actor(state)\n",
    "\n",
    "        #sample an action using the probability distribution\n",
    "        m = Categorical(action_probs)\n",
    "        action = m.sample()\n",
    "\n",
    "        #return action\n",
    "        return action.item(), m.log_prob(action)\n",
    "    \n",
    "    def evaluate_action(self, states, actions):\n",
    "        \n",
    "        #convert state to float tensor, add 1 dimension, allocate tensor on device\n",
    "        states_tensor = torch.stack([torch.from_numpy(state).float().unsqueeze(0) for state in states]).squeeze(1)\n",
    "\n",
    "        #use network to predict action probabilities\n",
    "        action_probs = self.actor(states_tensor)\n",
    "\n",
    "        #get probability distribution\n",
    "        m = Categorical(action_probs)\n",
    "\n",
    "        #return log_prob and entropy\n",
    "        return m.log_prob(torch.Tensor(actions)), m.entropy()\n",
    "        \n"
   ]
  },
  {
   "cell_type": "code",
   "execution_count": 65,
   "metadata": {},
   "outputs": [],
   "source": [
    "def process_rewards(rewards, terminals):\n",
    "    ''' Converts our rewards history into cumulative discounted rewards\n",
    "    Args:\n",
    "    - rewards (Array): array of rewards \n",
    "    \n",
    "    Returns:\n",
    "    - G (Array): array of cumulative discounted rewards\n",
    "    '''\n",
    "    #Calculate Gt (cumulative discounted rewards)\n",
    "    G = []\n",
    "    \n",
    "    #track cumulative reward\n",
    "    total_r = 0\n",
    "    \n",
    "    #iterate rewards from Gt to G0\n",
    "    for r, done in zip(reversed(rewards), reversed(terminals)):\n",
    "        \n",
    "        #Base case: G(T) = r(T)\n",
    "        #Recursive: G(t) = r(t) + G(t+1)^DISCOUNT\n",
    "        total_r = r + total_r * γ\n",
    "        \n",
    "        if done:\n",
    "            total_r = r\n",
    "        \n",
    "        #add to front of G\n",
    "        G.insert(0, total_r)\n",
    "    \n",
    "    #whitening rewards\n",
    "    G = torch.tensor(G)\n",
    "    G = (G - G.mean())/G.std()\n",
    "    \n",
    "    return G"
   ]
  },
  {
   "cell_type": "code",
   "execution_count": 85,
   "metadata": {},
   "outputs": [],
   "source": [
    "def clipped_update(batch):\n",
    "    #get items from trajectory\n",
    "    states = [sample[0] for sample in batch]\n",
    "    actions = [sample[1] for sample in batch]\n",
    "    rewards = [sample[2] for sample in batch]\n",
    "    old_lps = [sample[3] for sample in batch]\n",
    "    terminals = [sample[4] for sample in batch]\n",
    "    \n",
    "    Gt = process_rewards(rewards, terminals)\n",
    "    \n",
    "    for epoch in range(K_epoch):\n",
    "             \n",
    "        #get ratio\n",
    "        new_lps, entropies = actor_critic.evaluate_action(states, actions)\n",
    "        \n",
    "        ratios = torch.exp(new_lps - torch.Tensor(old_lps))\n",
    "        \n",
    "        #compute advantages\n",
    "        states_tensor = torch.stack([torch.from_numpy(state).float().unsqueeze(0) for state in states]).squeeze(1)\n",
    "        vals = actor_critic.critic(states_tensor).squeeze(1).detach()\n",
    "        advantages = Gt - vals\n",
    "        \n",
    "        #clip surrogate objective\n",
    "        surrogate1 = torch.clamp(ratios, min=1 - ϵ, max=1 + ϵ) * advantages\n",
    "        surrogate2 = ratios * advantages\n",
    "        \n",
    "        #loss, flip signs since this is gradient descent\n",
    "        loss =  -torch.min(surrogate1, surrogate2) + c1 * F.mse_loss(Gt, vals) - c2 * entropies\n",
    "        \n",
    "        optimizer.zero_grad()\n",
    "        loss.mean().backward()\n",
    "        optimizer.step()\n",
    "        "
   ]
  },
  {
   "cell_type": "code",
   "execution_count": 86,
   "metadata": {},
   "outputs": [],
   "source": [
    "#discount factor for future utilities\n",
    "γ = 0.99\n",
    "\n",
    "#number of steps to run\n",
    "TRAIN_STEPS = 100000\n",
    "\n",
    "#max steps per episode\n",
    "MAX_STEPS = 500\n",
    "\n",
    "#score agent needs for environment to be solved\n",
    "SOLVED_SCORE = 195\n",
    "\n",
    "#clipped surrogate constraint\n",
    "ϵ = 0.2\n",
    "\n",
    "#learning rates\n",
    "α_θ = 0.0003\n",
    "αv = 0.001\n",
    "\n",
    "#K epochs update \n",
    "K_epoch = 40\n",
    "\n",
    "#minibatch size\n",
    "BATCH_SIZE = 1600\n",
    "\n",
    "#value loss weight\n",
    "c1 = 0.5\n",
    "\n",
    "#entropy weight\n",
    "c2 = 0.01\n",
    "\n",
    "#device to run model on \n",
    "DEVICE = \"cuda\" if torch.cuda.is_available() else \"cpu\""
   ]
  },
  {
   "cell_type": "code",
   "execution_count": 87,
   "metadata": {},
   "outputs": [],
   "source": [
    "#Make environment\n",
    "env = gym.make('CartPole-v1')\n",
    "\n",
    "#seeds\n",
    "np.random.seed(0)\n",
    "env.seed(0)\n",
    "torch.manual_seed(0)\n",
    "\n",
    "#environment parameters\n",
    "obs_space = env.observation_space.shape[0]\n",
    "action_space = env.action_space.n\n",
    "\n",
    "#Init network\n",
    "actor_critic = ActorCriticNetwork(obs_space, action_space)\n",
    "\n",
    "\n",
    "#Init optimizer\n",
    "optimizer = torch.optim.Adam([\n",
    "    {'params': actor_critic.actor.parameters(), 'lr': α_θ},\n",
    "    {'params': actor_critic.critic.parameters(), 'lr': αv}\n",
    "])"
   ]
  },
  {
   "cell_type": "code",
   "execution_count": 88,
   "metadata": {
    "scrolled": false
   },
   "outputs": [
    {
     "data": {
      "application/vnd.jupyter.widget-view+json": {
       "model_id": "9ec5726e925f4af296e3f3634a8c9b7e",
       "version_major": 2,
       "version_minor": 0
      },
      "text/plain": [
       "HBox(children=(IntProgress(value=0, max=99999), HTML(value='')))"
      ]
     },
     "metadata": {},
     "output_type": "display_data"
    },
    {
     "ename": "KeyboardInterrupt",
     "evalue": "",
     "output_type": "error",
     "traceback": [
      "\u001b[1;31m---------------------------------------------------------------------------\u001b[0m",
      "\u001b[1;31mKeyboardInterrupt\u001b[0m                         Traceback (most recent call last)",
      "\u001b[1;32m<ipython-input-88-e62f0734549e>\u001b[0m in \u001b[0;36m<module>\u001b[1;34m\u001b[0m\n\u001b[0;32m     19\u001b[0m \u001b[1;33m\u001b[0m\u001b[0m\n\u001b[0;32m     20\u001b[0m     \u001b[1;31m#select action\u001b[0m\u001b[1;33m\u001b[0m\u001b[1;33m\u001b[0m\u001b[1;33m\u001b[0m\u001b[0m\n\u001b[1;32m---> 21\u001b[1;33m     \u001b[0maction\u001b[0m\u001b[1;33m,\u001b[0m \u001b[0mlp\u001b[0m \u001b[1;33m=\u001b[0m \u001b[0mactor_critic\u001b[0m\u001b[1;33m.\u001b[0m\u001b[0mselect_action\u001b[0m\u001b[1;33m(\u001b[0m\u001b[0mstate\u001b[0m\u001b[1;33m)\u001b[0m\u001b[1;33m\u001b[0m\u001b[1;33m\u001b[0m\u001b[0m\n\u001b[0m\u001b[0;32m     22\u001b[0m \u001b[1;33m\u001b[0m\u001b[0m\n\u001b[0;32m     23\u001b[0m     \u001b[1;31m#execute action\u001b[0m\u001b[1;33m\u001b[0m\u001b[1;33m\u001b[0m\u001b[1;33m\u001b[0m\u001b[0m\n",
      "\u001b[1;32m<ipython-input-2-583a532f3520>\u001b[0m in \u001b[0;36mselect_action\u001b[1;34m(self, state)\u001b[0m\n\u001b[0;32m     35\u001b[0m \u001b[1;33m\u001b[0m\u001b[0m\n\u001b[0;32m     36\u001b[0m         \u001b[1;31m#convert state to float tensor, add 1 dimension, allocate tensor on device\u001b[0m\u001b[1;33m\u001b[0m\u001b[1;33m\u001b[0m\u001b[1;33m\u001b[0m\u001b[0m\n\u001b[1;32m---> 37\u001b[1;33m         \u001b[0mstate\u001b[0m \u001b[1;33m=\u001b[0m \u001b[0mtorch\u001b[0m\u001b[1;33m.\u001b[0m\u001b[0mfrom_numpy\u001b[0m\u001b[1;33m(\u001b[0m\u001b[0mstate\u001b[0m\u001b[1;33m)\u001b[0m\u001b[1;33m.\u001b[0m\u001b[0mfloat\u001b[0m\u001b[1;33m(\u001b[0m\u001b[1;33m)\u001b[0m\u001b[1;33m.\u001b[0m\u001b[0munsqueeze\u001b[0m\u001b[1;33m(\u001b[0m\u001b[1;36m0\u001b[0m\u001b[1;33m)\u001b[0m\u001b[1;33m\u001b[0m\u001b[1;33m\u001b[0m\u001b[0m\n\u001b[0m\u001b[0;32m     38\u001b[0m \u001b[1;33m\u001b[0m\u001b[0m\n\u001b[0;32m     39\u001b[0m         \u001b[1;31m#use network to predict action probabilities\u001b[0m\u001b[1;33m\u001b[0m\u001b[1;33m\u001b[0m\u001b[1;33m\u001b[0m\u001b[0m\n",
      "\u001b[1;31mKeyboardInterrupt\u001b[0m: "
     ]
    }
   ],
   "source": [
    "#track scores\n",
    "scores = []\n",
    "\n",
    "#recent 100 scores\n",
    "recent_scores = deque(maxlen=100)\n",
    "\n",
    "#minibatch\n",
    "batch = []\n",
    "\n",
    "#reset environment, initiable variables\n",
    "state = env.reset()\n",
    "curr_step = 0\n",
    "\n",
    "#run training loop\n",
    "for step in tqdm_notebook(range(1, TRAIN_STEPS)):\n",
    "    \n",
    "    #env.render()\n",
    "    curr_step += 1\n",
    "\n",
    "    #select action\n",
    "    action, lp = actor_critic.select_action(state)\n",
    "\n",
    "    #execute action\n",
    "    new_state, reward, done, _ = env.step(action)\n",
    "\n",
    "    #store into trajectory\n",
    "    batch.append([state, action, reward, lp, done])\n",
    "\n",
    "    #optimize surrogate\n",
    "    if step % BATCH_SIZE == 0:\n",
    "        clipped_update(batch)\n",
    "        batch = []\n",
    "\n",
    "    #end episode\n",
    "    if done or curr_step >= MAX_STEPS:\n",
    "        state = env.reset()\n",
    "        curr_step = 0\n",
    "        continue\n",
    "\n",
    "    #move into new state\n",
    "    state = new_state        "
   ]
  },
  {
   "cell_type": "code",
   "execution_count": 89,
   "metadata": {},
   "outputs": [
    {
     "data": {
      "application/vnd.jupyter.widget-view+json": {
       "model_id": "50e1429f827d4c1baa12ebdee3a625c4",
       "version_major": 2,
       "version_minor": 0
      },
      "text/plain": [
       "HBox(children=(IntProgress(value=0, max=50), HTML(value='')))"
      ]
     },
     "metadata": {},
     "output_type": "display_data"
    },
    {
     "name": "stdout",
     "output_type": "stream",
     "text": [
      "\n"
     ]
    }
   ],
   "source": [
    "done = False\n",
    "state = env.reset()\n",
    "scores = []\n",
    "\n",
    "for _ in tqdm_notebook(range(50)):\n",
    "    state = env.reset()\n",
    "    done = False\n",
    "    score = 0\n",
    "    while not done:\n",
    "        #env.render()\n",
    "        action, lp = actor_critic.select_action(state)\n",
    "        new_state, reward, done, info = env.step(action)\n",
    "        score += reward\n",
    "        state = new_state\n",
    "    scores.append(score)\n",
    "env.close()"
   ]
  },
  {
   "cell_type": "code",
   "execution_count": 90,
   "metadata": {},
   "outputs": [
    {
     "data": {
      "text/plain": [
       "315.72"
      ]
     },
     "execution_count": 90,
     "metadata": {},
     "output_type": "execute_result"
    }
   ],
   "source": [
    "np.array(scores).mean()"
   ]
  },
  {
   "cell_type": "code",
   "execution_count": 72,
   "metadata": {},
   "outputs": [],
   "source": [
    "env.close()"
   ]
  },
  {
   "cell_type": "code",
   "execution_count": null,
   "metadata": {},
   "outputs": [],
   "source": []
  }
 ],
 "metadata": {
  "kernelspec": {
   "display_name": "Python 3",
   "language": "python",
   "name": "python3"
  },
  "language_info": {
   "codemirror_mode": {
    "name": "ipython",
    "version": 3
   },
   "file_extension": ".py",
   "mimetype": "text/x-python",
   "name": "python",
   "nbconvert_exporter": "python",
   "pygments_lexer": "ipython3",
   "version": "3.7.4"
  }
 },
 "nbformat": 4,
 "nbformat_minor": 2
}

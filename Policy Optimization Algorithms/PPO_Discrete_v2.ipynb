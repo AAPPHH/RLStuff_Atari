{
 "cells": [
  {
   "cell_type": "markdown",
   "metadata": {},
   "source": [
    "PPO_v2 uses Generalized Advantage Estimation, value function clipping, normalizes advantages, LR annealing, global gradient clipping, and epsilon parameter in Adam. "
   ]
  },
  {
   "cell_type": "code",
   "execution_count": 217,
   "metadata": {},
   "outputs": [],
   "source": [
    "import torch\n",
    "import torch.nn as nn\n",
    "import torch.nn.functional as F\n",
    "import torch.optim as optim\n",
    "from torch.distributions import Categorical\n",
    "\n",
    "import gym\n",
    "from tqdm import tqdm_notebook\n",
    "import numpy as np\n",
    "from collections import deque\n",
    "from copy import deepcopy"
   ]
  },
  {
   "cell_type": "code",
   "execution_count": 218,
   "metadata": {},
   "outputs": [],
   "source": [
    "#class for actor-critic network\n",
    "class ActorCriticNetwork(nn.Module):\n",
    "    \n",
    "    def __init__(self, obs_space, action_space):\n",
    "        '''\n",
    "        Args:\n",
    "        - obs_space (int): observation space\n",
    "        - action_space (int): action space\n",
    "        \n",
    "        '''\n",
    "        super(ActorCriticNetwork, self).__init__()\n",
    "\n",
    "        self.actor = nn.Sequential(\n",
    "                            nn.Linear(obs_space, 64),\n",
    "                            nn.Tanh(),\n",
    "                            nn.Linear(64, 64),\n",
    "                            nn.Tanh(),\n",
    "                            nn.Linear(64, action_space),\n",
    "                            nn.Softmax(dim=1))\n",
    "\n",
    "\n",
    "        self.critic = nn.Sequential(\n",
    "                        nn.Linear(obs_space, 64),\n",
    "                        nn.Tanh(),\n",
    "                        nn.Linear(64, 64),\n",
    "                        nn.Tanh(),\n",
    "                        nn.Linear(64, 1))\n",
    "        \n",
    "    def forward(self):\n",
    "        ''' Not implemented since we call the individual actor and critc networks for forward pass\n",
    "        '''\n",
    "        raise NotImplementedError\n",
    "        \n",
    "    def select_action(self, state):\n",
    "        ''' Selects an action given current state\n",
    "        Args:\n",
    "        - network (Torch NN): network to process state\n",
    "        - state (Array): Array of action space in an environment\n",
    "\n",
    "        Return:\n",
    "        - (int): action that is selected\n",
    "        - (float): log probability of selecting that action given state and network\n",
    "        '''\n",
    "    \n",
    "        #convert state to float tensor, add 1 dimension, allocate tensor on device\n",
    "        state = torch.from_numpy(state).float().unsqueeze(0)\n",
    "\n",
    "        #use network to predict action probabilities\n",
    "        action_probs = self.actor(state)\n",
    "\n",
    "        #sample an action using the probability distribution\n",
    "        m = Categorical(action_probs)\n",
    "        action = m.sample()\n",
    "\n",
    "        #return action\n",
    "        return action.item(), m.log_prob(action)\n",
    "    \n",
    "    def evaluate_action(self, states, actions):\n",
    "        ''' Get log probability and entropy of an action taken in given state\n",
    "        Args:\n",
    "        - states (Array): array of states to be evaluated\n",
    "        - actions (Array): array of actions to be evaluated\n",
    "        \n",
    "        '''\n",
    "        \n",
    "        #convert state to float tensor, add 1 dimension, allocate tensor on device\n",
    "        states_tensor = torch.stack([torch.from_numpy(state).float().unsqueeze(0) for state in states]).squeeze(1)\n",
    "\n",
    "        #use network to predict action probabilities\n",
    "        action_probs = self.actor(states_tensor)\n",
    "\n",
    "        #get probability distribution\n",
    "        m = Categorical(action_probs)\n",
    "\n",
    "        #return log_prob and entropy\n",
    "        return m.log_prob(torch.Tensor(actions)), m.entropy()\n",
    "        \n"
   ]
  },
  {
   "cell_type": "code",
   "execution_count": 274,
   "metadata": {},
   "outputs": [],
   "source": [
    "#Proximal Policy Optimization\n",
    "class PPO_policy():\n",
    "    \n",
    "    def __init__(self, γ, ϵ, β, δ, λ, c1, c2, k_epoch, obs_space, action_space, α_θ, αv):\n",
    "        '''\n",
    "        Args:\n",
    "        - γ (float): discount factor\n",
    "        - ϵ (float): soft surrogate objective constraint\n",
    "        - β (float): KL (Kullback–Leibler) penalty \n",
    "        - δ (float): KL divergence adaptive target\n",
    "        - λ (float): Generalized advantage estimation decay rate\n",
    "        - c1 (float): value loss weight\n",
    "        - c2 (float): entropy weight\n",
    "        - k_epoch (int): number of epochs to optimize\n",
    "        - obs_space (int): observation space\n",
    "        - action_space (int): action space\n",
    "        - α_θ (float): actor learning rate\n",
    "        - αv (float): critic learning rate\n",
    "        \n",
    "        '''\n",
    "        self.γ = γ\n",
    "        self.ϵ = ϵ\n",
    "        self.β = β\n",
    "        self.δ = δ\n",
    "        self.λ = λ\n",
    "        self.c1 = c1\n",
    "        self.c2 = c2\n",
    "        self.k_epoch = k_epoch\n",
    "        self.actor_critic = ActorCriticNetwork(obs_space, action_space)\n",
    "        self.optimizer = torch.optim.Adam([\n",
    "            {'params': self.actor_critic.actor.parameters(), 'lr': α_θ, 'eps': 1e-5},\n",
    "            {'params': self.actor_critic.critic.parameters(), 'lr': αv, 'eps': 1e-5}\n",
    "        ])\n",
    "        #buffer to store current batch\n",
    "        self.batch = []\n",
    "        \n",
    "    def calculate_gae(self, rewards, terminals, states):\n",
    "        ''' Calculates the general advantage estimation (GAE(λ)) for all timesteps\n",
    "        Args:\n",
    "        - rewards (Array): array of rewards\n",
    "        - terminals (Array): array of terminals\n",
    "        - states (Array): array of states\n",
    "        \n",
    "        Returns:\n",
    "        - G (Array): array of estimated generalized advantages\n",
    "        '''\n",
    "        \n",
    "        #Calculate state values\n",
    "        states_tensor = torch.stack([torch.from_numpy(state).float().unsqueeze(0) for state in states]).squeeze(1)\n",
    "        vals = self.actor_critic.critic(states_tensor).squeeze(1).detach()\n",
    "        \n",
    "        #GAE at each timestep\n",
    "        gaes = []\n",
    "        \n",
    "        #track total_adv so far\n",
    "        total_adv = 0\n",
    "        \n",
    "        #track next state's value\n",
    "        next_val = 0\n",
    "        \n",
    "        #iterate through rewards, terminals, and values reversed, so from timestep t -> 0\n",
    "        for r, done, val in zip(reversed(rewards), reversed(terminals), reversed(vals)):\n",
    "            \n",
    "            #td error\n",
    "            delta = r + self.γ * next_val - val\n",
    "            \n",
    "            #calculate advantage with cumulative advantages from future steps decayed by λ\n",
    "            total_adv = delta + self.γ * self.λ * total_adv\n",
    "            \n",
    "            #if done, next_val = 0 and future total_adv = 0, therefore total_adv = r - val.\n",
    "            if done:\n",
    "                total_adv = r - val\n",
    "            \n",
    "            #update next_val (since we are iterating backwards)\n",
    "            next_val = val\n",
    "            \n",
    "            #insert into gae\n",
    "            gaes.insert(0, total_adv)\n",
    "        \n",
    "        return torch.Tensor(gaes)\n",
    "        \n",
    "    \n",
    "    def process_rewards(self, rewards, terminals):\n",
    "        ''' Converts our rewards history into cumulative discounted rewards\n",
    "        Args:\n",
    "        - rewards (Array): array of rewards \n",
    "        - terminals (Array): array of terminals\n",
    "\n",
    "        Returns:\n",
    "        - G (Array): array of cumulative discounted rewards\n",
    "        '''\n",
    "        #Calculate Gt (cumulative discounted rewards)\n",
    "        G = []\n",
    "\n",
    "        #track cumulative reward\n",
    "        total_r = 0\n",
    "\n",
    "        #iterate rewards from Gt to G0\n",
    "        for r, done in zip(reversed(rewards), reversed(terminals)):\n",
    "\n",
    "            #Base case: G(T) = r(T)\n",
    "            #Recursive: G(t) = r(t) + G(t+1)^DISCOUNT\n",
    "            total_r = r + total_r * self.γ\n",
    "\n",
    "            #no future rewards if current step is terminal\n",
    "            if done:\n",
    "                total_r = r\n",
    "\n",
    "            #add to front of G\n",
    "            G.insert(0, total_r)\n",
    "\n",
    "        #whitening rewards\n",
    "        G = torch.tensor(G)\n",
    "        G = (G - G.mean())/G.std()\n",
    "\n",
    "        return G\n",
    "    \n",
    "    def kl_divergence(self, old_lps, new_lps):\n",
    "        ''' Calculate distance between two distributions with KL divergence\n",
    "        Args:\n",
    "        - old_lps (Array): array of old policy log probabilities\n",
    "        - new_lps (Array): array of new policy log probabilities\n",
    "        '''\n",
    "        \n",
    "        #track kl divergence\n",
    "        total = 0\n",
    "        \n",
    "        #sum up divergence for all actions\n",
    "        for old_lp, new_lp in zip(old_lps, new_lps):\n",
    "            \n",
    "            #same as old_lp * log(old_prob/new_prob) cuz of log rules\n",
    "            total += old_lp * (old_lp - new_lp)\n",
    "\n",
    "        return total\n",
    "    \n",
    "    \n",
    "    def penalty_update(self):\n",
    "        ''' Update policy using surrogate objective with adaptive KL penalty\n",
    "        '''\n",
    "        \n",
    "        #get items from current batch\n",
    "        states = [sample[0] for sample in self.batch]\n",
    "        actions = [sample[1] for sample in self.batch]\n",
    "        rewards = [sample[2] for sample in self.batch]\n",
    "        old_lps = [sample[3] for sample in self.batch]\n",
    "        terminals = [sample[4] for sample in self.batch]\n",
    "        \n",
    "        #calculate cumulative discounted rewards\n",
    "        Gt = self.process_rewards(rewards, terminals)\n",
    "\n",
    "        #track divergence\n",
    "        divergence = 0\n",
    "\n",
    "        #perform k-epoch update\n",
    "        for epoch in range(self.k_epoch):\n",
    "\n",
    "            #get ratio\n",
    "            new_lps, entropies = self.actor_critic.evaluate_action(states, actions)\n",
    "            #same as new_prob / old_prob\n",
    "            ratios = torch.exp(new_lps - torch.Tensor(old_lps))\n",
    "\n",
    "            #compute advantages\n",
    "            advantages = self.calculate_gae(rewards, terminals, states)\n",
    "            advantages = (advantages - advantages.mean())/advantages.std()\n",
    "            \n",
    "            #calculate vals\n",
    "            states_tensor = torch.stack([torch.from_numpy(state).float().unsqueeze(0) for state in states]).squeeze(1)\n",
    "            vals = self.actor_critic.critic(states_tensor).squeeze(1).detach()\n",
    "\n",
    "            #get loss with adaptive kl penalty\n",
    "            divergence = self.kl_divergence(old_lps, new_lps).detach()\n",
    "            loss = -ratios * advantages + self.β * divergence\n",
    "            \n",
    "            #SGD via Adam\n",
    "            self.optimizer.zero_grad()\n",
    "            loss.mean().backward()\n",
    "            \n",
    "            #gradient clipping\n",
    "            torch.nn.utils.clip_grad_norm_(self.actor_critic.parameters(), 0.5)\n",
    "            self.optimizer.step()\n",
    "\n",
    "        #update adaptive penalty\n",
    "        if divergence >= 1.5 * self.δ:\n",
    "            self.β *= 2\n",
    "        elif divergence <= self.δ / 1.5:\n",
    "            self.β /= 2\n",
    "        \n",
    "        #clear batch buffer\n",
    "        self.batch = []\n",
    "            \n",
    "    def clipped_update(self):\n",
    "        ''' Update policy using clipped surrogate objective\n",
    "        '''\n",
    "        #get items from trajectory\n",
    "        states = [sample[0] for sample in self.batch]\n",
    "        actions = [sample[1] for sample in self.batch]\n",
    "        rewards = [sample[2] for sample in self.batch]\n",
    "        old_lps = [sample[3] for sample in self.batch]\n",
    "        terminals = [sample[4] for sample in self.batch]\n",
    "\n",
    "        #calculate cumulative discounted rewards\n",
    "        Gt = self.process_rewards(rewards, terminals)\n",
    "        \n",
    "        #track previous vals\n",
    "        prev_vals = None\n",
    "\n",
    "        #perform k-epoch update\n",
    "        for epoch in range(self.k_epoch):\n",
    "\n",
    "            #get ratio\n",
    "            new_lps, entropies = self.actor_critic.evaluate_action(states, actions)\n",
    "\n",
    "            ratios = torch.exp(new_lps - torch.Tensor(old_lps))\n",
    "\n",
    "            #compute advantages\n",
    "            advantages = self.calculate_gae(rewards, terminals, states)\n",
    "            advantages = (advantages - advantages.mean())/advantages.std()\n",
    "            \n",
    "            #compute vals\n",
    "            states_tensor = torch.stack([torch.from_numpy(state).float().unsqueeze(0) for state in states]).squeeze(1)\n",
    "            vals = self.actor_critic.critic(states_tensor).squeeze(1).detach()\n",
    "            \n",
    "            #if no prev vals, assign curr val\n",
    "            if prev_vals is None:\n",
    "                prev_vals = vals\n",
    "\n",
    "            #clip surrogate objective\n",
    "            surrogate1 = torch.clamp(ratios, min=1 - self.ϵ, max=1 + self.ϵ) * advantages\n",
    "            surrogate2 = ratios * advantages\n",
    "            \n",
    "            #clip value loss, clamp with mean prev_val instead of clipping individual prev_vals\n",
    "            val_loss1 = F.mse_loss(Gt, vals)\n",
    "            val_loss2 = F.mse_loss(Gt, torch.clamp(vals, min=prev_vals.mean().item() - self.ϵ, max=prev_vals.mean().item() + self.ϵ))\n",
    "\n",
    "            #loss, flip signs since this is gradient descent\n",
    "            loss =  -torch.min(surrogate1, surrogate2) + self.c1 * torch.min(val_loss1, val_loss2) - self.c2 * entropies\n",
    "\n",
    "            self.optimizer.zero_grad()\n",
    "            loss.mean().backward()\n",
    "            \n",
    "            #gradient clipping\n",
    "            torch.nn.utils.clip_grad_norm_(self.actor_critic.parameters(), 0.5)\n",
    "            self.optimizer.step()\n",
    "            \n",
    "            #update prev_vals\n",
    "            prev_vals = vals\n",
    "        \n",
    "        #clear batch buffer\n",
    "        self.batch = []\n"
   ]
  },
  {
   "cell_type": "code",
   "execution_count": 275,
   "metadata": {},
   "outputs": [],
   "source": [
    "#Make environment\n",
    "env = gym.make('CartPole-v1')\n",
    "\n",
    "#seeds\n",
    "np.random.seed(2)\n",
    "env.seed(2)\n",
    "torch.manual_seed(2)\n",
    "\n",
    "#environment parameters\n",
    "obs_space = env.observation_space.shape[0]\n",
    "action_space = env.action_space.n"
   ]
  },
  {
   "cell_type": "code",
   "execution_count": 276,
   "metadata": {},
   "outputs": [],
   "source": [
    "#Experiment Hyperparameters\n",
    "\n",
    "#CartPole hyperparameters\n",
    "ppo_policy = PPO_policy(γ=0.99, ϵ=0.2, β=1, δ=0.01, λ=0.9, c1=0.5, c2=0.01, k_epoch=40, \n",
    "                        obs_space=obs_space, action_space=action_space, α_θ = 0.0003, αv = 0.001)\n",
    "\n",
    "#number of steps to train\n",
    "TRAIN_STEPS = 300000\n",
    "\n",
    "#max steps per episode\n",
    "MAX_STEPS = 400\n",
    "\n",
    "#batch training size\n",
    "BATCH_SIZE = 1600\n",
    "\n",
    "#solved environment score\n",
    "SOLVED_SCORE = 200\n",
    "\n",
    "#Linear LR annealing\n",
    "min_α_θ = 0\n",
    "min_αv = 0"
   ]
  },
  {
   "cell_type": "code",
   "execution_count": 277,
   "metadata": {
    "scrolled": true
   },
   "outputs": [
    {
     "data": {
      "text/plain": [
       "[<matplotlib.lines.Line2D at 0x241c05c4b08>]"
      ]
     },
     "execution_count": 277,
     "metadata": {},
     "output_type": "execute_result"
    },
    {
     "data": {
      "image/png": "[encoded data removed]",
      "text/plain": [
       "<Figure size 432x288 with 1 Axes>"
      ]
     },
     "metadata": {},
     "output_type": "display_data"
    }
   ],
   "source": [
    "plt.plot(adv.detach().numpy())"
   ]
  },
  {
   "cell_type": "code",
   "execution_count": 278,
   "metadata": {
    "scrolled": false
   },
   "outputs": [
    {
     "data": {
      "text/plain": [
       "[<matplotlib.lines.Line2D at 0x241c0632a08>]"
      ]
     },
     "execution_count": 278,
     "metadata": {},
     "output_type": "execute_result"
    },
    {
     "data": {
      "image/png": "[encoded data removed]",
      "text/plain": [
       "<Figure size 432x288 with 1 Axes>"
      ]
     },
     "metadata": {},
     "output_type": "display_data"
    }
   ],
   "source": [
    "plt.plot(advantages.detach().numpy())"
   ]
  },
  {
   "cell_type": "code",
   "execution_count": 279,
   "metadata": {
    "scrolled": true
   },
   "outputs": [
    {
     "data": {
      "application/vnd.jupyter.widget-view+json": {
       "model_id": "b5c525c2b00d4221a99848454e9bf1a4",
       "version_major": 2,
       "version_minor": 0
      },
      "text/plain": [
       "HBox(children=(IntProgress(value=0, max=299999), HTML(value='')))"
      ]
     },
     "metadata": {},
     "output_type": "display_data"
    }
   ],
   "source": [
    "#track scores\n",
    "scores = []\n",
    "\n",
    "#recent 100 scores\n",
    "recent_scores = deque(maxlen=100)\n",
    "\n",
    "#reset environment, initiable variables\n",
    "state = env.reset()\n",
    "curr_step = 0\n",
    "score = 0\n",
    "\n",
    "#run training loop\n",
    "for step in tqdm_notebook(range(1, TRAIN_STEPS)):\n",
    "    \n",
    "    #env.render()\n",
    "    curr_step += 1\n",
    "\n",
    "    #select action\n",
    "    action, lp = ppo_policy.actor_critic.select_action(state)\n",
    "\n",
    "    #execute action\n",
    "    new_state, reward, done, _ = env.step(action)\n",
    "    \n",
    "    #track rewards\n",
    "    score += reward\n",
    "\n",
    "    #store into trajectory\n",
    "    ppo_policy.batch.append([state, action, reward, lp, done])\n",
    "\n",
    "    #optimize surrogate\n",
    "    if step % BATCH_SIZE == 0:\n",
    "        #update ppo\n",
    "        ppo_policy.clipped_update()\n",
    "        \n",
    "        #linear learning rate annealing for actor and critic\n",
    "        #(Current LR - min LR) / (steps left) / batch_size = amount to decrease LR\n",
    "        ppo_policy.optimizer.param_groups[0]['lr'] -= (ppo_policy.optimizer.param_groups[0]['lr'] - min_α_θ) / (TRAIN_STEPS - step) / BATCH_SIZE \n",
    "        ppo_policy.optimizer.param_groups[1]['lr'] -= (ppo_policy.optimizer.param_groups[1]['lr'] - min_αv) / (TRAIN_STEPS - step) / BATCH_SIZE \n",
    "\n",
    "    #end episode\n",
    "    if done or curr_step >= MAX_STEPS:\n",
    "        state = env.reset()\n",
    "        curr_step = 0\n",
    "        scores.append(score)\n",
    "        recent_scores.append(score)\n",
    "        score = 0\n",
    "        continue\n",
    "        \n",
    "    #check if solved environment, early stopping\n",
    "    if len(recent_scores) >= 100 and np.array(recent_scores).mean() >= SOLVED_SCORE:\n",
    "        break\n",
    "\n",
    "    #move into new state\n",
    "    state = new_state        "
   ]
  },
  {
   "cell_type": "code",
   "execution_count": 281,
   "metadata": {
    "scrolled": false
   },
   "outputs": [
    {
     "data": {
      "image/png": "[encoded data removed]",
      "text/plain": [
       "<Figure size 432x288 with 1 Axes>"
      ]
     },
     "metadata": {},
     "output_type": "display_data"
    }
   ],
   "source": [
    "import matplotlib.pyplot as plt\n",
    "from sklearn.linear_model import LinearRegression\n",
    "import seaborn as sns\n",
    "import numpy as np\n",
    "\n",
    "sns.set()\n",
    "\n",
    "plt.plot(scores)\n",
    "plt.ylabel('score')\n",
    "plt.xlabel('episodes')\n",
    "plt.title('Training score of CartPole-v1 with Clipped Surrogate Objective PPO')\n",
    "\n",
    "reg = LinearRegression().fit(np.arange(len(scores)).reshape(-1, 1), np.array(scores).reshape(-1, 1))\n",
    "y_pred = reg.predict(np.arange(len(scores)).reshape(-1, 1))\n",
    "plt.plot(y_pred)\n",
    "plt.show()"
   ]
  },
  {
   "cell_type": "code",
   "execution_count": 282,
   "metadata": {},
   "outputs": [
    {
     "data": {
      "application/vnd.jupyter.widget-view+json": {
       "model_id": "6c18cd6f52734edc8a347a7554a1a397",
       "version_major": 2,
       "version_minor": 0
      },
      "text/plain": [
       "HBox(children=(IntProgress(value=0, max=10), HTML(value='')))"
      ]
     },
     "metadata": {},
     "output_type": "display_data"
    },
    {
     "name": "stdout",
     "output_type": "stream",
     "text": [
      "\n"
     ]
    }
   ],
   "source": [
    "#evaluate policy\n",
    "\n",
    "done = False\n",
    "state = env.reset()\n",
    "scores = []\n",
    "\n",
    "for _ in tqdm_notebook(range(10)):\n",
    "    state = env.reset()\n",
    "    done = False\n",
    "    score = 0\n",
    "    for step in range(MAX_STEPS):\n",
    "        #env.render()\n",
    "        action, lp = ppo_policy.actor_critic.select_action(state)\n",
    "        new_state, reward, done, info = env.step(action)\n",
    "        score += reward\n",
    "        state = new_state\n",
    "        \n",
    "        if done:\n",
    "            break\n",
    "    scores.append(score)\n",
    "env.close()"
   ]
  },
  {
   "cell_type": "code",
   "execution_count": 283,
   "metadata": {},
   "outputs": [
    {
     "data": {
      "text/plain": [
       "334.4"
      ]
     },
     "execution_count": 283,
     "metadata": {},
     "output_type": "execute_result"
    }
   ],
   "source": [
    "np.array(scores).mean()"
   ]
  },
  {
   "cell_type": "code",
   "execution_count": 284,
   "metadata": {},
   "outputs": [],
   "source": [
    "env.close()"
   ]
  },
  {
   "cell_type": "code",
   "execution_count": null,
   "metadata": {},
   "outputs": [],
   "source": []
  }
 ],
 "metadata": {
  "kernelspec": {
   "display_name": "Python 3",
   "language": "python",
   "name": "python3"
  },
  "language_info": {
   "codemirror_mode": {
    "name": "ipython",
    "version": 3
   },
   "file_extension": ".py",
   "mimetype": "text/x-python",
   "name": "python",
   "nbconvert_exporter": "python",
   "pygments_lexer": "ipython3",
   "version": "3.7.4"
  }
 },
 "nbformat": 4,
 "nbformat_minor": 2
}

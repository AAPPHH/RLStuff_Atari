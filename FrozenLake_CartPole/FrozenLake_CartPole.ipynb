{
 "cells": [
  {
   "cell_type": "code",
   "execution_count": 6,
   "metadata": {
    "scrolled": true
   },
   "outputs": [],
   "source": [
    "import gym\n",
    "import numpy as np\n",
    "from keras.models import Sequential\n",
    "from keras.layers import InputLayer\n",
    "from keras.layers import Dense\n",
    "from tqdm import tqdm\n",
    "from collections import deque\n",
    "import random\n"
   ]
  },
  {
   "cell_type": "markdown",
   "metadata": {},
   "source": [
    "### FrozenLake with Q-Learning"
   ]
  },
  {
   "cell_type": "code",
   "execution_count": 80,
   "metadata": {
    "scrolled": true
   },
   "outputs": [],
   "source": [
    "env = gym.make('FrozenLake-v0', is_slippery=False)\n",
    "\n",
    "discount_factor = 0.95\n",
    "eps = 0.5\n",
    "eps_decay_factor = 0.999\n",
    "learning_rate = 0.8\n",
    "num_episodes = 10000"
   ]
  },
  {
   "cell_type": "code",
   "execution_count": 81,
   "metadata": {},
   "outputs": [],
   "source": [
    "#initialize q table\n",
    "q_table = np.zeros((env.observation_space.n, env.action_space.n))"
   ]
  },
  {
   "cell_type": "code",
   "execution_count": 82,
   "metadata": {},
   "outputs": [
    {
     "name": "stderr",
     "output_type": "stream",
     "text": [
      "100%|██████████████████████████████████████████████████████████████████████████| 10000/10000 [00:03<00:00, 3022.21it/s]\n"
     ]
    }
   ],
   "source": [
    "scores = []\n",
    "for i in tqdm(range(num_episodes), leave=True, position=0):\n",
    "    #reset environment\n",
    "    state = env.reset()\n",
    "    \n",
    "    #epsilon greedy decays over time\n",
    "    #basically more exploration at first then more exploitation\n",
    "    eps *= eps_decay_factor\n",
    "    score = 0\n",
    "    done = False\n",
    "    \n",
    "    #run game\n",
    "    while not done:\n",
    "        #epsilon greedy\n",
    "        #exploration given eps or when q table not init\n",
    "        if np.random.random() < eps or np.sum(q_table[state, :]) == 0:\n",
    "            action = np.random.randint(0, env.action_space.n)\n",
    "        else:\n",
    "            action = np.argmax(q_table[state, :])\n",
    "\n",
    "        new_state, reward, done, _ = env.step(action)\n",
    "        score += reward\n",
    "        q_table[state][action] += learning_rate * (reward + discount_factor * max(q_table[new_state]) - q_table[state][action])\n",
    "        \n",
    "        state = new_state\n",
    "    scores.append(score)"
   ]
  },
  {
   "cell_type": "markdown",
   "metadata": {},
   "source": [
    "Building policy:"
   ]
  },
  {
   "cell_type": "code",
   "execution_count": 75,
   "metadata": {},
   "outputs": [],
   "source": [
    "actions = ['L', 'D', 'R', 'U']\n",
    "policy = np.zeros([env.observation_space.n], dtype='object')\n",
    "\n",
    "for i, _ in enumerate(policy):\n",
    "    policy[i] = actions[np.argmax(q_table[i])]"
   ]
  },
  {
   "cell_type": "code",
   "execution_count": 77,
   "metadata": {},
   "outputs": [
    {
     "name": "stdout",
     "output_type": "stream",
     "text": [
      "  (Right)\n",
      "SFFF\n",
      "FHFH\n",
      "FFFH\n",
      "HFFG\n"
     ]
    }
   ],
   "source": [
    "env.render()"
   ]
  },
  {
   "cell_type": "code",
   "execution_count": 85,
   "metadata": {
    "scrolled": true
   },
   "outputs": [
    {
     "data": {
      "text/plain": [
       "array([['D', 'R', 'D', 'L'],\n",
       "       ['D', 'L', 'D', 'L'],\n",
       "       ['R', 'D', 'D', 'L'],\n",
       "       ['L', 'R', 'R', 'L']], dtype=object)"
      ]
     },
     "execution_count": 85,
     "metadata": {},
     "output_type": "execute_result"
    }
   ],
   "source": [
    "np.reshape(policy, (4,4))"
   ]
  },
  {
   "cell_type": "markdown",
   "metadata": {},
   "source": [
    "### CartPole-v1 with Deep Q-Learning"
   ]
  },
  {
   "cell_type": "code",
   "execution_count": 7,
   "metadata": {},
   "outputs": [],
   "source": [
    "env = gym.make('CartPole-v1')\n",
    "env.reset()\n",
    "\n",
    "discount_factor = 0.95\n",
    "eps = 0.5\n",
    "eps_min = 0.01\n",
    "eps_decay = 0.99\n",
    "learning_rate = 0.8\n",
    "num_episodes = 50\n",
    "batch_size = 32"
   ]
  },
  {
   "cell_type": "markdown",
   "metadata": {},
   "source": [
    "Agent playing with random action:"
   ]
  },
  {
   "cell_type": "code",
   "execution_count": null,
   "metadata": {},
   "outputs": [],
   "source": [
    "scores = []\n",
    "memory = deque(maxlen=2000)\n",
    "\n",
    "for i in tqdm(range(num_episodes), position=0, leave=True):\n",
    "    state = env.reset()\n",
    "    done = False\n",
    "    score = 0\n",
    "    #while game not ended\n",
    "    while not done:\n",
    "        new_state, reward, done, _ = env.step(env.action_space.sample())\n",
    "        score += reward\n",
    "        state = new_state\n",
    "    scores.append(score)"
   ]
  },
  {
   "cell_type": "markdown",
   "metadata": {},
   "source": [
    "Agent playing with Deep Q-learning:"
   ]
  },
  {
   "cell_type": "code",
   "execution_count": 9,
   "metadata": {},
   "outputs": [
    {
     "name": "stdout",
     "output_type": "stream",
     "text": [
      "Model: \"sequential_2\"\n",
      "_________________________________________________________________\n",
      "Layer (type)                 Output Shape              Param #   \n",
      "=================================================================\n",
      "dense_4 (Dense)              (None, 32)                160       \n",
      "_________________________________________________________________\n",
      "dense_5 (Dense)              (None, 32)                1056      \n",
      "_________________________________________________________________\n",
      "dense_6 (Dense)              (None, 2)                 66        \n",
      "=================================================================\n",
      "Total params: 1,282\n",
      "Trainable params: 1,282\n",
      "Non-trainable params: 0\n",
      "_________________________________________________________________\n"
     ]
    }
   ],
   "source": [
    "model = Sequential()\n",
    "model.add(Dense(32, input_shape=(4,), activation='relu'))\n",
    "model.add(Dense(32, activation='relu'))\n",
    "model.add(Dense(2, activation='linear'))\n",
    "model.compile(loss='mse', optimizer='adam')"
   ]
  },
  {
   "cell_type": "code",
   "execution_count": 14,
   "metadata": {},
   "outputs": [
    {
     "name": "stderr",
     "output_type": "stream",
     "text": [
      "100%|██████████████████████████████████████████████████████████████████████████████████| 50/50 [38:13<00:00, 45.87s/it]\n"
     ]
    }
   ],
   "source": [
    "scores = []\n",
    "\n",
    "memory = deque(maxlen=2000)\n",
    "\n",
    "for i in tqdm(range(num_episodes), position=0, leave=True):\n",
    "    state = env.reset()\n",
    "    done = False\n",
    "    eps *= eps_decay\n",
    "    score = 0\n",
    "    #while game not ended\n",
    "    while not done:\n",
    "        #choose move with epsilon greedy\n",
    "        if np.random.random() < eps:\n",
    "            #exploration\n",
    "            action = np.random.randint(0, env.action_space.n)\n",
    "        else:\n",
    "            #exploitation\n",
    "            #use expand_dims here to add a dimension for input layer\n",
    "            q_vals = model.predict(np.expand_dims(state, axis=0))\n",
    "            action = np.argmax(q_vals)\n",
    "        \n",
    "        #execute move\n",
    "        new_state, reward, done, _ = env.step(action)\n",
    "        score += reward\n",
    "        \n",
    "        #modify reward so it scales with pole angle. Pole angle range [-0.418, 0.418]\n",
    "        reward = 1 - abs(state[2])/0.418\n",
    "        \n",
    "        #memorize\n",
    "        memory.append([np.expand_dims(state, axis=0), action, reward, np.expand_dims(new_state, axis=0), done])\n",
    "        \n",
    "        #update\n",
    "        #instead of training every state, we train in batch_size\n",
    "        if len(memory) > batch_size:\n",
    "            #sample batch_size so model could be fit on any random states in memory not just the latest state\n",
    "            minibatch = random.sample(memory, batch_size)\n",
    "            \n",
    "            #iterate through the sampled batch\n",
    "            for b_state, b_action, b_reward, b_new_state, b_done in minibatch:\n",
    "                \n",
    "                #if current game is done then target = reward cuz theres no future utility\n",
    "                if b_done:\n",
    "                    target = b_reward\n",
    "                else:\n",
    "                    #what we think the state's q_val should be, reward + discounted future utility\n",
    "                    target = b_reward + discount_factor * np.max(model.predict(b_new_state))\n",
    "                \n",
    "                #what we thought the current state's q_val should be\n",
    "                target_vector = model.predict(b_state)[0]\n",
    "                \n",
    "                #update the target_vector \n",
    "                target_vector[b_action] = target\n",
    "            \n",
    "                #instead of finding temporal difference between new q_val and old q_val, we train the model by giving it the new q_val\n",
    "                # and let the network do the updating \n",
    "                #train the model with the batch\n",
    "                model.fit(b_state, target_vector.reshape(-1, env.action_space.n), epochs=1, verbose=0)\n",
    "\n",
    "            #update epsilon\n",
    "            if eps > eps_min:\n",
    "                eps *= eps_decay\n",
    "                \n",
    "        #new state\n",
    "        state = new_state\n",
    "    scores.append(score)"
   ]
  },
  {
   "cell_type": "code",
   "execution_count": 18,
   "metadata": {
    "scrolled": false
   },
   "outputs": [
    {
     "data": {
      "text/plain": [
       "[<matplotlib.lines.Line2D at 0x2984a4d6f08>]"
      ]
     },
     "execution_count": 18,
     "metadata": {},
     "output_type": "execute_result"
    },
    {
     "data": {
      "image/png": "[encoded data removed]",
      "text/plain": [
       "<Figure size 432x288 with 1 Axes>"
      ]
     },
     "metadata": {
      "needs_background": "light"
     },
     "output_type": "display_data"
    }
   ],
   "source": [
    "import matplotlib.pyplot as plt\n",
    "from sklearn.linear_model import LinearRegression\n",
    "\n",
    "plt.plot(scores)\n",
    "plt.ylabel('score')\n",
    "plt.xlabel('episodes')\n",
    "plt.title('Score of RL Agent over episodes')\n",
    "\n",
    "reg = LinearRegression().fit(np.arange(len(scores)).reshape(-1, 1), np.array(scores).reshape(-1, 1))\n",
    "y_pred = reg.predict(np.arange(len(scores)).reshape(-1, 1))\n",
    "plt.plot(y_pred)\n"
   ]
  },
  {
   "cell_type": "markdown",
   "metadata": {},
   "source": [
    "Agent playing with policy:"
   ]
  },
  {
   "cell_type": "code",
   "execution_count": 17,
   "metadata": {
    "scrolled": true
   },
   "outputs": [],
   "source": [
    "scores = []\n",
    "while len(scores) < 50:\n",
    "    try:\n",
    "        state = env.reset()\n",
    "        done = False\n",
    "        score = 0\n",
    "        while not done:\n",
    "            score += 1\n",
    "#            env.render()\n",
    "            q_vals = model.predict(np.expand_dims(state, axis=0))\n",
    "            action = np.argmax(q_vals)\n",
    "\n",
    "            new_state, _, done, _ = env.step(action)\n",
    "            state = new_state\n",
    "        scores.append(score)\n",
    "    except KeyboardInterrupt:\n",
    "#        env.close()\n",
    "        break"
   ]
  },
  {
   "cell_type": "code",
   "execution_count": 19,
   "metadata": {},
   "outputs": [
    {
     "data": {
      "text/plain": [
       "489.88"
      ]
     },
     "execution_count": 19,
     "metadata": {},
     "output_type": "execute_result"
    }
   ],
   "source": [
    "np.array(scores).mean()"
   ]
  }
 ],
 "metadata": {
  "kernelspec": {
   "display_name": "Python 3",
   "language": "python",
   "name": "python3"
  },
  "language_info": {
   "codemirror_mode": {
    "name": "ipython",
    "version": 3
   },
   "file_extension": ".py",
   "mimetype": "text/x-python",
   "name": "python",
   "nbconvert_exporter": "python",
   "pygments_lexer": "ipython3",
   "version": "3.7.4"
  }
 },
 "nbformat": 4,
 "nbformat_minor": 2
}
